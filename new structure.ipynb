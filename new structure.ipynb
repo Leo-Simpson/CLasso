{
 "cells": [
  {
   "cell_type": "code",
   "execution_count": 1,
   "metadata": {},
   "outputs": [],
   "source": [
    "from CLasso import *\n",
    "import numpy as np\n",
    "import matplotlib.pyplot as plt"
   ]
  },
  {
   "cell_type": "code",
   "execution_count": 2,
   "metadata": {},
   "outputs": [],
   "source": [
    "'''\n",
    "To generate the data :\n",
    "'''\n",
    "\n",
    "m,d,d_nonzero,k,sigma =100,200,5,5,0.5\n",
    "(X,C,y),sol = random_data(m,d,d_nonzero,k,sigma,zerosum=True)"
   ]
  },
  {
   "cell_type": "code",
   "execution_count": 3,
   "metadata": {},
   "outputs": [],
   "source": [
    "'''\n",
    "To define the problem :\n",
    "'''\n",
    "\n",
    "problem = classo_problem(X,y,C)"
   ]
  },
  {
   "cell_type": "code",
   "execution_count": 4,
   "metadata": {},
   "outputs": [],
   "source": [
    "'''\n",
    "To solve the problem with its default parameters :\n",
    "'''\n",
    "problem.solve()"
   ]
  },
  {
   "cell_type": "code",
   "execution_count": 5,
   "metadata": {},
   "outputs": [
    {
     "data": {
      "image/png": "[encoded data removed]",
      "text/plain": [
       "<Figure size 432x288 with 1 Axes>"
      ]
     },
     "metadata": {
      "needs_background": "light"
     },
     "output_type": "display_data"
    },
    {
     "data": {
      "image/png": "[encoded data removed]",
      "text/plain": [
       "<Figure size 432x288 with 1 Axes>"
      ]
     },
     "metadata": {
      "needs_background": "light"
     },
     "output_type": "display_data"
    },
    {
     "data": {
      "image/png": "[encoded data removed]",
      "text/plain": [
       "<Figure size 432x288 with 1 Axes>"
      ]
     },
     "metadata": {
      "needs_background": "light"
     },
     "output_type": "display_data"
    },
    {
     "name": "stdout",
     "output_type": "stream",
     "text": [
      " Running time for CV       : 4.001s \n",
      " Running time for SS       : 0.778s \n",
      " Running time for LAMfixed : 0.052s\n"
     ]
    },
    {
     "data": {
      "text/plain": [
       "dict_keys(['beta_CV', 'distribution_SS', 'beta_LAMfixed', 'sigma_CV', 'sigma_LAMfixed', 'time_CV', 'time_SS', 'time_LAMfixed', 'lambdamax'])"
      ]
     },
     "execution_count": 5,
     "metadata": {},
     "output_type": "execute_result"
    }
   ],
   "source": [
    "'''\n",
    "To plot the solutions, as graph, or to see all its components :\n",
    "'''\n",
    "\n",
    "\n",
    "print(problem.solution)\n",
    "\n",
    "problem.solution.__dict__.keys()"
   ]
  },
  {
   "cell_type": "code",
   "execution_count": 6,
   "metadata": {},
   "outputs": [
    {
     "data": {
      "text/plain": [
       "dict_keys(['data', 'problem_formulation', 'model_selection', 'solution'])"
      ]
     },
     "execution_count": 6,
     "metadata": {},
     "output_type": "execute_result"
    }
   ],
   "source": [
    "'''\n",
    "To see the variables in problem, \n",
    "then one can just print one of the components of problem : problem.data for example\n",
    "'''\n",
    "\n",
    "problem.__dict__.keys()"
   ]
  },
  {
   "cell_type": "code",
   "execution_count": 7,
   "metadata": {},
   "outputs": [
    {
     "name": "stdout",
     "output_type": "stream",
     "text": [
      "Concomitant\n"
     ]
    },
    {
     "data": {
      "text/plain": [
       "{'huber': False, 'concomitant': True, 'rho': 1.345}"
      ]
     },
     "execution_count": 7,
     "metadata": {},
     "output_type": "execute_result"
    }
   ],
   "source": [
    "'''\n",
    "To see the formulation of the problem, either as a dictionary or as a string\n",
    "'''\n",
    "print(problem.problem_formulation)\n",
    "\n",
    "problem.problem_formulation.__dict__"
   ]
  },
  {
   "cell_type": "code",
   "execution_count": 8,
   "metadata": {},
   "outputs": [
    {
     "name": "stdout",
     "output_type": "stream",
     "text": [
      "CV,  SS,  LAMfixed\n"
     ]
    },
    {
     "data": {
      "text/plain": [
       "{'CV': True,\n",
       " 'CVparameters': Nsubset = 5  lamin = 0.01;  numerical_method = ODE,\n",
       " 'SS': True,\n",
       " 'SSparameters': method = first;  lamin = 0.01;  B = 50;  q = 10;  pourcent_nS = 0.5;  numerical_method = ODE,\n",
       " 'LAMfixed': True,\n",
       " 'LAMparameters': lam = theoritical;  theoritical_lam = 0.448;  numerical_method = ODE}"
      ]
     },
     "execution_count": 8,
     "metadata": {},
     "output_type": "execute_result"
    }
   ],
   "source": [
    "'''\n",
    "To see the model selection, either as a dictionary or as a string \n",
    "'''\n",
    "\n",
    "\n",
    "print(problem.model_selection)\n",
    "\n",
    "problem.model_selection.__dict__"
   ]
  },
  {
   "cell_type": "code",
   "execution_count": 9,
   "metadata": {},
   "outputs": [
    {
     "data": {
      "text/plain": [
       "{'seed': 1,\n",
       " 'problem_formulation': Concomitant,\n",
       " 'numerical_method': 'ODE',\n",
       " 'method': 'first',\n",
       " 'B': 50,\n",
       " 'q': 10,\n",
       " 'pourcent_nS': 0.5,\n",
       " 'lamin': 0.01,\n",
       " 'hd': False,\n",
       " 'lam': 'theoritical',\n",
       " 'theoritical_lam': 0.6337}"
      ]
     },
     "execution_count": 9,
     "metadata": {},
     "output_type": "execute_result"
    }
   ],
   "source": [
    "'''\n",
    "To know what are the Stability Selection parameters :\n",
    "(also works for Cross Validation parameters, or fixed Lam parameters)\n",
    "'''\n",
    "\n",
    "problem.model_selection.SSparameters.__dict__"
   ]
  },
  {
   "cell_type": "code",
   "execution_count": 10,
   "metadata": {},
   "outputs": [
    {
     "name": "stdout",
     "output_type": "stream",
     "text": [
      "sigma     =  3.1700577116568014\n",
      "lambdamax =  1.0072233211654693\n"
     ]
    }
   ],
   "source": [
    "'''\n",
    "To get a parameter of the solution :\n",
    "'''\n",
    "print(\"sigma     = \", problem.solution.sigma_LAMfixed)\n",
    "print(\"lambdamax = \", problem.solution.lambdamax)"
   ]
  },
  {
   "cell_type": "code",
   "execution_count": 11,
   "metadata": {},
   "outputs": [
    {
     "data": {
      "image/png": "[encoded data removed]",
      "text/plain": [
       "<Figure size 432x288 with 1 Axes>"
      ]
     },
     "metadata": {
      "needs_background": "light"
     },
     "output_type": "display_data"
    },
    {
     "data": {
      "text/plain": [
       " Running time for CV       : 0s \n",
       " Running time for SS       : 0s \n",
       " Running time for LAMfixed : 17.569s"
      ]
     },
     "execution_count": 11,
     "metadata": {},
     "output_type": "execute_result"
    }
   ],
   "source": [
    "'''\n",
    "To solve a problem different than the default parameters :\n",
    "\n",
    "'''\n",
    "problem = classo_problem(X,y)\n",
    "formulation = problem.problem_formulation\n",
    "formulation.huber = True\n",
    "formulation.concomitant = False\n",
    "\n",
    "\n",
    "MS = problem.model_selection\n",
    "MS.SS = False\n",
    "MS.CV = False\n",
    "\n",
    "param = MS.LAMparameters\n",
    "param.lam = 0.1\n",
    "param.numerical_method = '2prox'\n",
    "problem.solve()\n",
    "problem.solution"
   ]
  },
  {
   "cell_type": "code",
   "execution_count": 12,
   "metadata": {},
   "outputs": [
    {
     "name": "stdout",
     "output_type": "stream",
     "text": [
      "Difference of solution beta for same seed  0.0\n",
      "Difference of solution beta for different seeds  0.14493341965848222\n"
     ]
    }
   ],
   "source": [
    "'''\n",
    "To show that the CV (also works for SS) depends only on the seed we choose :\n",
    "\n",
    "'''\n",
    "problem = classo_problem(X,y)\n",
    "MS = problem.model_selection\n",
    "MS.LAMfixed = False\n",
    "MS.SS       = False\n",
    "MS.CV       = True\n",
    "\n",
    "\n",
    "MS.CVparameters.seed = 1\n",
    "problem.solve()\n",
    "solution1 = problem.solution\n",
    "\n",
    "\n",
    "\n",
    "MS.CVparameters.seed = 1\n",
    "problem.solve()\n",
    "solution2 = problem.solution\n",
    "\n",
    "MS.CVparameters.seed = 3\n",
    "problem.solve()\n",
    "solution3 = problem.solution\n",
    "\n",
    "b1, b2, b3 = solution1.beta_CV, solution2.beta_CV, solution3.beta_CV \n",
    "\n",
    "print( \"Difference of solution beta for same seed \", np.linalg.norm(b1-b2))\n",
    "\n",
    "print( \"Difference of solution beta for different seeds \", np.linalg.norm(b1-b3))"
   ]
  }
 ],
 "metadata": {
  "kernelspec": {
   "display_name": "Python 3",
   "language": "python",
   "name": "python3"
  },
  "language_info": {
   "codemirror_mode": {
    "name": "ipython",
    "version": 3
   },
   "file_extension": ".py",
   "mimetype": "text/x-python",
   "name": "python",
   "nbconvert_exporter": "python",
   "pygments_lexer": "ipython3",
   "version": "3.6.8"
  }
 },
 "nbformat": 4,
 "nbformat_minor": 2
}
