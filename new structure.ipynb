{
 "cells": [
  {
   "cell_type": "code",
   "execution_count": 1,
   "metadata": {},
   "outputs": [],
   "source": [
    "from CLasso import *\n",
    "import numpy as np\n",
    "import matplotlib.pyplot as plt"
   ]
  },
  {
   "cell_type": "code",
   "execution_count": 2,
   "metadata": {},
   "outputs": [],
   "source": [
    "'''\n",
    "To generate the data :\n",
    "'''\n",
    "\n",
    "m,d,d_nonzero,k,sigma =100,200,5,5,0.5\n",
    "(X,C,y),sol = random_data(m,d,d_nonzero,k,sigma,zerosum=True)"
   ]
  },
  {
   "cell_type": "code",
   "execution_count": 3,
   "metadata": {},
   "outputs": [],
   "source": [
    "'''\n",
    "To define the problem :\n",
    "'''\n",
    "\n",
    "problem = classo_problem(X,y)"
   ]
  },
  {
   "cell_type": "code",
   "execution_count": 4,
   "metadata": {},
   "outputs": [],
   "source": [
    "'''\n",
    "To solve the problem with its default parameters :\n",
    "'''\n",
    "problem.solve()"
   ]
  },
  {
   "cell_type": "code",
   "execution_count": 5,
   "metadata": {},
   "outputs": [
    {
     "data": {
      "image/png": "[encoded data removed]",
      "text/plain": [
       "<Figure size 432x288 with 1 Axes>"
      ]
     },
     "metadata": {
      "needs_background": "light"
     },
     "output_type": "display_data"
    },
    {
     "data": {
      "image/png": "[encoded data removed]",
      "text/plain": [
       "<Figure size 432x288 with 1 Axes>"
      ]
     },
     "metadata": {
      "needs_background": "light"
     },
     "output_type": "display_data"
    },
    {
     "data": {
      "image/png": "[encoded data removed]",
      "text/plain": [
       "<Figure size 432x288 with 1 Axes>"
      ]
     },
     "metadata": {
      "needs_background": "light"
     },
     "output_type": "display_data"
    },
    {
     "data": {
      "text/plain": [
       " Running time for CV       : 2.999s \n",
       " Running time for SS       : 0.72s \n",
       " Running time for LAMfixed : 0.077s"
      ]
     },
     "execution_count": 5,
     "metadata": {},
     "output_type": "execute_result"
    }
   ],
   "source": [
    "'''\n",
    "To plot the solutions :\n",
    "'''\n",
    "\n",
    "problem.solution"
   ]
  },
  {
   "cell_type": "code",
   "execution_count": 6,
   "metadata": {},
   "outputs": [
    {
     "data": {
      "text/plain": [
       "dict_keys(['data', 'rho', 'formulation', 'model_selection', 'solution'])"
      ]
     },
     "execution_count": 6,
     "metadata": {},
     "output_type": "execute_result"
    }
   ],
   "source": [
    "'''\n",
    "To see the variables in problem, \n",
    "then one can just plot problem.rescale for instance to see its value :\n",
    "'''\n",
    "\n",
    "problem.__dict__.keys()"
   ]
  },
  {
   "cell_type": "code",
   "execution_count": 7,
   "metadata": {},
   "outputs": [
    {
     "data": {
      "text/plain": [
       "{'seed': 1,\n",
       " 'formulation': 'Concomitant',\n",
       " 'numerical_method': 'ODE',\n",
       " 'method': 'first',\n",
       " 'B': 50,\n",
       " 'q': 10,\n",
       " 'pourcent_nS': 0.5,\n",
       " 'lamin': 0.01,\n",
       " 'hd': False,\n",
       " 'lam': 'theoritical',\n",
       " 'theoritical_lam': 0.6337}"
      ]
     },
     "execution_count": 7,
     "metadata": {},
     "output_type": "execute_result"
    }
   ],
   "source": [
    "'''\n",
    "To know what are the Stability Selection parameters :\n",
    "(also works for Cross Validation parameters, or fixed Lam parameters)\n",
    "'''\n",
    "\n",
    "problem.model_selection.SSparameters.__dict__"
   ]
  },
  {
   "cell_type": "code",
   "execution_count": 8,
   "metadata": {},
   "outputs": [
    {
     "name": "stdout",
     "output_type": "stream",
     "text": [
      "sigma     =  0.7120180830981705\n",
      "lambdamax =  0.6953821775711149\n"
     ]
    }
   ],
   "source": [
    "'''\n",
    "To get a parameter of the solution :\n",
    "'''\n",
    "print(\"sigma     = \", problem.solution.sigma_LAMfixed)\n",
    "print(\"lambdamax = \", problem.solution.lambdamax)"
   ]
  },
  {
   "cell_type": "code",
   "execution_count": 11,
   "metadata": {},
   "outputs": [
    {
     "data": {
      "image/png": "[encoded data removed]",
      "text/plain": [
       "<Figure size 432x288 with 1 Axes>"
      ]
     },
     "metadata": {
      "needs_background": "light"
     },
     "output_type": "display_data"
    },
    {
     "data": {
      "text/plain": [
       " Running time for CV       : 0s \n",
       " Running time for SS       : 0s \n",
       " Running time for LAMfixed : 11.645s"
      ]
     },
     "execution_count": 11,
     "metadata": {},
     "output_type": "execute_result"
    }
   ],
   "source": [
    "'''\n",
    "To solve a problem different than the default parameters :\n",
    "\n",
    "'''\n",
    "problem = classo_problem(X,y)\n",
    "MS = problem.model_selection\n",
    "MS.SS = False\n",
    "MS.CV = False\n",
    "MS.LAMparameters.lam = 0.1\n",
    "MS.LAMparameters.formulation = 'Huber'\n",
    "MS.LAMparameters.numerical_method = '2prox'\n",
    "problem.solve()\n",
    "problem.solution"
   ]
  },
  {
   "cell_type": "code",
   "execution_count": 12,
   "metadata": {},
   "outputs": [
    {
     "name": "stdout",
     "output_type": "stream",
     "text": [
      "Difference of solution beta for same seed  0.0\n",
      "Difference of solution beta for different seeds  0.023020419275032282\n"
     ]
    }
   ],
   "source": [
    "'''\n",
    "To show that the CV (also works for SS) depends only on the seed we choose :\n",
    "\n",
    "'''\n",
    "problem = classo_problem(X,y)\n",
    "MS = problem.model_selection\n",
    "MS.LAMfixed = False\n",
    "MS.SS       = False\n",
    "MS.CV       = True\n",
    "\n",
    "\n",
    "MS.CVparameters.seed = 1\n",
    "problem.solve()\n",
    "solution1 = problem.solution\n",
    "\n",
    "\n",
    "\n",
    "MS.CVparameters.seed = 1\n",
    "problem.solve()\n",
    "solution2 = problem.solution\n",
    "\n",
    "MS.CVparameters.seed = 3\n",
    "problem.solve()\n",
    "solution3 = problem.solution\n",
    "\n",
    "b1, b2, b3 = solution1.beta_CV, solution2.beta_CV, solution3.beta_CV \n",
    "\n",
    "print( \"Difference of solution beta for same seed \", np.linalg.norm(b1-b2))\n",
    "\n",
    "print( \"Difference of solution beta for different seeds \", np.linalg.norm(b1-b3))"
   ]
  },
  {
   "cell_type": "code",
   "execution_count": null,
   "metadata": {},
   "outputs": [],
   "source": []
  }
 ],
 "metadata": {
  "kernelspec": {
   "display_name": "Python 3",
   "language": "python",
   "name": "python3"
  },
  "language_info": {
   "codemirror_mode": {
    "name": "ipython",
    "version": 3
   },
   "file_extension": ".py",
   "mimetype": "text/x-python",
   "name": "python",
   "nbconvert_exporter": "python",
   "pygments_lexer": "ipython3",
   "version": "3.6.8"
  }
 },
 "nbformat": 4,
 "nbformat_minor": 2
}
