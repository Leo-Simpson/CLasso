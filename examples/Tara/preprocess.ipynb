{
 "cells": [
  {
   "cell_type": "code",
   "execution_count": 1,
   "metadata": {
    "ExecuteTime": {
     "end_time": "2020-12-14T19:46:18.526585Z",
     "start_time": "2020-12-14T19:46:18.522182Z"
    },
    "scrolled": true
   },
   "outputs": [],
   "source": [
    "# !pip install rpy2"
   ]
  },
  {
   "cell_type": "code",
   "execution_count": 2,
   "metadata": {
    "ExecuteTime": {
     "end_time": "2020-12-14T19:46:19.013787Z",
     "start_time": "2020-12-14T19:46:18.530888Z"
    }
   },
   "outputs": [],
   "source": [
    "import numpy as np\n",
    "# import rpy in order to read data generated on R\n",
    "import rpy2.robjects as ro\n",
    "from rpy2.robjects.packages import importr"
   ]
  },
  {
   "cell_type": "code",
   "execution_count": 3,
   "metadata": {
    "ExecuteTime": {
     "end_time": "2020-12-14T19:46:19.021480Z",
     "start_time": "2020-12-14T19:46:19.017515Z"
    },
    "scrolled": true
   },
   "outputs": [],
   "source": [
    "# this code code be used in order to import R library Matrix\n",
    "# utils = importr('utils')    \n",
    "# utils.chooseCRANmirror(ind=1) #\n",
    "# utils.install_packages('Matrix')\n",
    "# importr('Matrix')"
   ]
  },
  {
   "cell_type": "code",
   "execution_count": 4,
   "metadata": {
    "ExecuteTime": {
     "end_time": "2020-12-14T19:46:21.651109Z",
     "start_time": "2020-12-14T19:46:19.025856Z"
    }
   },
   "outputs": [
    {
     "name": "stderr",
     "output_type": "stream",
     "text": [
      "R[write to console]: Loading required package: Matrix\n",
      "\n"
     ]
    }
   ],
   "source": [
    "#Open R file tara_sal_processed.RDS\n",
    "file = 'tara_sal_processed.RDS'\n",
    "rds = ro.r['readRDS'](file)\n",
    "\n",
    "rA = ro.r[\"as.matrix\"](rds[4])"
   ]
  },
  {
   "cell_type": "code",
   "execution_count": 5,
   "metadata": {
    "ExecuteTime": {
     "end_time": "2020-12-14T19:46:22.315853Z",
     "start_time": "2020-12-14T19:46:21.653715Z"
    }
   },
   "outputs": [
    {
     "name": "stdout",
     "output_type": "stream",
     "text": [
      "(136,)\n",
      "(136, 8916)\n",
      "(8916, 9615)\n"
     ]
    }
   ],
   "source": [
    "x = np.array(rds[1])\n",
    "y = np.array(rds[0])\n",
    "A = np.array(rA)\n",
    "\n",
    "label_OTU = rds[1].colnames\n",
    "label_sample =rds[1].rownames\n",
    "label_nodes = np.array(list(rA.colnames))\n",
    "label_short = np.array([l.split(\"::\")[-1] for l in label_nodes])\n",
    "print(y.shape)\n",
    "print(x.shape)\n",
    "print(A.shape)"
   ]
  },
  {
   "cell_type": "code",
   "execution_count": 6,
   "metadata": {
    "ExecuteTime": {
     "end_time": "2020-12-14T19:46:22.844155Z",
     "start_time": "2020-12-14T19:46:22.320977Z"
    }
   },
   "outputs": [],
   "source": [
    "ro.r['load'](\"tara_sal_trac.RData\")\n",
    "\n",
    "\n",
    "cvfit = ro.r[\"cvfit\"]\n",
    "cv = cvfit.rx(\"cv\")\n",
    "lambda_1SE = cv.rx(\"lambda_1se\")\n",
    "\n",
    "tr = np.array(ro.r['tr']) - 1  # python index starts at 0 when R index starts at 1"
   ]
  },
  {
   "cell_type": "code",
   "execution_count": 7,
   "metadata": {
    "ExecuteTime": {
     "end_time": "2020-12-14T19:46:23.741929Z",
     "start_time": "2020-12-14T19:46:22.846411Z"
    }
   },
   "outputs": [],
   "source": [
    "pseudo_count = 1\n",
    "X = np.log(pseudo_count+x)\n",
    "nleaves = np.sum(A,axis = 0)\n",
    "logGeom = X.dot(A)/nleaves"
   ]
  },
  {
   "cell_type": "code",
   "execution_count": 8,
   "metadata": {
    "ExecuteTime": {
     "end_time": "2020-12-14T19:46:23.831921Z",
     "start_time": "2020-12-14T19:46:23.744392Z"
    }
   },
   "outputs": [],
   "source": [
    "np.savez('tara.npz', tr=tr, y=y, logGeom=logGeom, nleaves=nleaves, label_nodes=label_nodes, label_short=label_short)"
   ]
  }
 ],
 "metadata": {
  "kernelspec": {
   "display_name": "Python 3",
   "language": "python",
   "name": "python3"
  },
  "language_info": {
   "codemirror_mode": {
    "name": "ipython",
    "version": 3
   },
   "file_extension": ".py",
   "mimetype": "text/x-python",
   "name": "python",
   "nbconvert_exporter": "python",
   "pygments_lexer": "ipython3",
   "version": "3.6.7"
  },
  "toc": {
   "base_numbering": 1,
   "nav_menu": {},
   "number_sections": true,
   "sideBar": true,
   "skip_h1_title": false,
   "title_cell": "Table of Contents",
   "title_sidebar": "Contents",
   "toc_cell": false,
   "toc_position": {},
   "toc_section_display": true,
   "toc_window_display": false
  }
 },
 "nbformat": 4,
 "nbformat_minor": 4
}
