{
 "cells": [
  {
   "cell_type": "code",
   "execution_count": 1,
   "metadata": {
    "ExecuteTime": {
     "end_time": "2020-10-07T23:22:03.624171Z",
     "start_time": "2020-10-07T23:22:01.094519Z"
    }
   },
   "outputs": [],
   "source": [
    "from classo.solve_R2 import pathlasso_R2, Classo_R2, problem_R2\n",
    "from classo.solve_R1 import pathlasso_R1, Classo_R1, problem_R1\n",
    "from classo import random_data\n",
    "import numpy as np\n",
    "\n",
    "m,d,d_nonzero,k,sigma =5,10,2,0,0.5\n",
    "matrices,sol = random_data(m,d,d_nonzero,k,sigma,zerosum=True,seed=5)"
   ]
  },
  {
   "cell_type": "code",
   "execution_count": 2,
   "metadata": {
    "ExecuteTime": {
     "end_time": "2020-10-07T23:22:03.676379Z",
     "start_time": "2020-10-07T23:22:03.629330Z"
    },
    "run_control": {
     "marked": true
    }
   },
   "outputs": [],
   "source": [
    "rho = 1.5 \n",
    "lambdas = np.linspace(1.,1e-1,80)\n",
    "pb = problem_R2(matrices,'DR',rho)\n",
    "\n",
    "r = pb.lambdamax/(2*rho)\n",
    "pb.compute_param()"
   ]
  },
  {
   "cell_type": "code",
   "execution_count": 3,
   "metadata": {
    "ExecuteTime": {
     "end_time": "2020-10-07T23:22:03.695052Z",
     "start_time": "2020-10-07T23:22:03.681958Z"
    }
   },
   "outputs": [],
   "source": [
    "pb.init_R1()\n",
    "pb.add_r(r=r)\n",
    "pb1 = pb.prob_R1\n",
    "Ata = pb1.AtA"
   ]
  },
  {
   "cell_type": "code",
   "execution_count": 5,
   "metadata": {
    "ExecuteTime": {
     "end_time": "2020-10-07T23:22:09.581849Z",
     "start_time": "2020-10-07T23:22:09.535175Z"
    }
   },
   "outputs": [],
   "source": [
    "beta1 = Classo_R1(pb1, 0.1)[:d]"
   ]
  },
  {
   "cell_type": "code",
   "execution_count": null,
   "metadata": {},
   "outputs": [],
   "source": [
    "print()"
   ]
  }
 ],
 "metadata": {
  "kernelspec": {
   "display_name": "Python 3",
   "language": "python",
   "name": "python3"
  },
  "language_info": {
   "codemirror_mode": {
    "name": "ipython",
    "version": 3
   },
   "file_extension": ".py",
   "mimetype": "text/x-python",
   "name": "python",
   "nbconvert_exporter": "python",
   "pygments_lexer": "ipython3",
   "version": "3.6.8"
  },
  "toc": {
   "base_numbering": 1,
   "nav_menu": {},
   "number_sections": true,
   "sideBar": true,
   "skip_h1_title": false,
   "title_cell": "Table of Contents",
   "title_sidebar": "Contents",
   "toc_cell": false,
   "toc_position": {},
   "toc_section_display": true,
   "toc_window_display": false
  }
 },
 "nbformat": 4,
 "nbformat_minor": 4
}
