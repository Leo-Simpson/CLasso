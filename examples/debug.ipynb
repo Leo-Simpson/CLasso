{
 "cells": [
  {
   "cell_type": "code",
   "execution_count": 22,
   "metadata": {
    "ExecuteTime": {
     "end_time": "2020-10-07T12:04:53.607837Z",
     "start_time": "2020-10-07T12:04:53.560423Z"
    }
   },
   "outputs": [],
   "source": [
    "from classo.solve_R2 import pathlasso_R2, Classo_R2, problem_R2\n",
    "from classo.solve_R1 import pathlasso_R1, Classo_R1, problem_R1\n",
    "from classo import random_data\n",
    "import numpy as np\n",
    "\n",
    "m,d,d_nonzero,k,sigma =5,10,2,0,0.5\n",
    "matrices,sol = random_data(m,d,d_nonzero,k,sigma,zerosum=True,seed=5)"
   ]
  },
  {
   "cell_type": "code",
   "execution_count": 23,
   "metadata": {
    "ExecuteTime": {
     "end_time": "2020-10-07T12:04:53.795575Z",
     "start_time": "2020-10-07T12:04:53.786188Z"
    },
    "run_control": {
     "marked": true
    }
   },
   "outputs": [],
   "source": [
    "rho = 1.5 \n",
    "lambdas = np.linspace(1.,1e-1,80)\n",
    "pb = problem_R2(matrices,'DR',rho)\n",
    "\n",
    "r = pb.lambdamax/(2*rho)\n",
    "pb.compute_param()"
   ]
  },
  {
   "cell_type": "code",
   "execution_count": 24,
   "metadata": {
    "ExecuteTime": {
     "end_time": "2020-10-07T12:04:53.992652Z",
     "start_time": "2020-10-07T12:04:53.984628Z"
    }
   },
   "outputs": [],
   "source": [
    "pb.init_R1()\n",
    "pb.add_r(r=r)\n",
    "pb1 = pb.prob_R1"
   ]
  },
  {
   "cell_type": "code",
   "execution_count": 25,
   "metadata": {
    "ExecuteTime": {
     "end_time": "2020-10-07T12:04:54.192651Z",
     "start_time": "2020-10-07T12:04:54.172398Z"
    }
   },
   "outputs": [],
   "source": [
    "AtA = pb1.AtA\n",
    "A = pb1.matrix[0]\n",
    "beta1 = Classo_R1(pb1, 0.1)[:d]"
   ]
  },
  {
   "cell_type": "code",
   "execution_count": 29,
   "metadata": {
    "ExecuteTime": {
     "end_time": "2020-10-07T12:06:02.618176Z",
     "start_time": "2020-10-07T12:06:02.605943Z"
    }
   },
   "outputs": [
    {
     "name": "stdout",
     "output_type": "stream",
     "text": [
      "[[ 3.30144058  0.58386303  2.31976916 -0.60557888  0.93300205  0.63726902\n",
      "  -2.02423059 -1.21275954  1.91600461  0.45832881  0.          0.\n",
      "   0.          0.          0.        ]\n",
      " [ 0.58386303  1.5127568  -0.02789485  0.21582717 -0.64475914 -1.76519624\n",
      "  -0.65486948 -0.95272671  0.4602614  -0.87035601  0.          0.\n",
      "   0.          0.          0.        ]\n",
      " [ 2.31976916 -0.02789485  6.80776665 -0.42451316  0.02251993  3.6053549\n",
      "  -2.56130413 -1.74629451  0.96206429 -0.96067905  0.          0.\n",
      "   0.          0.          0.        ]\n",
      " [-0.60557888  0.21582717 -0.42451316  0.74279254 -1.35217083 -0.68844718\n",
      "   1.28404249  1.46432837 -1.07140334  0.32347868  0.          0.\n",
      "   0.          0.          0.        ]\n",
      " [ 0.93300205 -0.64475914  0.02251993 -1.35217083  3.85185449  2.3842837\n",
      "  -1.66070792 -3.45544618  2.45349856 -1.32405279  0.          0.\n",
      "   0.          0.          0.        ]\n",
      " [ 0.63726902 -1.76519624  3.6053549  -0.68844718  2.3842837   5.23332006\n",
      "  -0.68163755 -1.52408175  0.90113279 -0.78981742  0.          0.\n",
      "   0.          0.          0.        ]\n",
      " [-2.02423059 -0.65486948 -2.56130413  1.28404249 -1.66070792 -0.68163755\n",
      "   3.4930748   3.48214518 -2.31071317  1.23015327  0.          0.\n",
      "   0.          0.          0.        ]\n",
      " [-1.21275954 -0.95272671 -1.74629451  1.46432837 -3.45544618 -1.52408175\n",
      "   3.48214518  5.95799922 -3.20121248  3.46600548  0.          0.\n",
      "   0.          0.          0.        ]\n",
      " [ 1.91600461  0.4602614   0.96206429 -1.07140334  2.45349856  0.90113279\n",
      "  -2.31071317 -3.20121248  2.43953889 -1.13853224  0.          0.\n",
      "   0.          0.          0.        ]\n",
      " [ 0.45832881 -0.87035601 -0.96067905  0.32347868 -1.32405279 -0.78981742\n",
      "   1.23015327  3.46600548 -1.13853224  2.98437011  0.          0.\n",
      "   0.          0.          0.        ]\n",
      " [ 0.          0.          0.          0.          0.          0.\n",
      "   0.          0.          0.          0.          0.          0.\n",
      "   0.          0.          0.        ]\n",
      " [ 0.          0.          0.          0.          0.          0.\n",
      "   0.          0.          0.          0.          0.          0.\n",
      "   0.          0.          0.        ]\n",
      " [ 0.          0.          0.          0.          0.          0.\n",
      "   0.          0.          0.          0.          0.          0.\n",
      "   0.          0.          0.        ]\n",
      " [ 0.          0.          0.          0.          0.          0.\n",
      "   0.          0.          0.          0.          0.          0.\n",
      "   0.          0.          0.        ]\n",
      " [ 0.          0.          0.          0.          0.          0.\n",
      "   0.          0.          0.          0.          0.          0.\n",
      "   0.          0.          0.        ]]\n"
     ]
    }
   ],
   "source": [
    "print(pb1.AtA)"
   ]
  },
  {
   "cell_type": "code",
   "execution_count": null,
   "metadata": {},
   "outputs": [],
   "source": []
  }
 ],
 "metadata": {
  "kernelspec": {
   "display_name": "Python 3",
   "language": "python",
   "name": "python3"
  },
  "language_info": {
   "codemirror_mode": {
    "name": "ipython",
    "version": 3
   },
   "file_extension": ".py",
   "mimetype": "text/x-python",
   "name": "python",
   "nbconvert_exporter": "python",
   "pygments_lexer": "ipython3",
   "version": "3.6.8"
  },
  "toc": {
   "base_numbering": 1,
   "nav_menu": {},
   "number_sections": true,
   "sideBar": true,
   "skip_h1_title": false,
   "title_cell": "Table of Contents",
   "title_sidebar": "Contents",
   "toc_cell": false,
   "toc_position": {},
   "toc_section_display": true,
   "toc_window_display": false
  }
 },
 "nbformat": 4,
 "nbformat_minor": 4
}
