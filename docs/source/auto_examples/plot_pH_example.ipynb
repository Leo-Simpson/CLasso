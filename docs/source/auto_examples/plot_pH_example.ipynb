{
  "cells": [
    {
      "cell_type": "code",
      "execution_count": null,
      "metadata": {
        "collapsed": false
      },
      "outputs": [],
      "source": [
        "%matplotlib inline"
      ]
    },
    {
      "cell_type": "markdown",
      "metadata": {},
      "source": [
        "\n# pH prediction using the 88 soils dataset \n\nThe next microbiome example considers a\n`Soil dataset <https://github.com/Leo-Simpson/c-lasso/tree/master/examples/pH_data>`_ .\n\nThe task is to predict pH concentration in the soil from microbial abundance data.\n\nA similar analysis is also done in `Tree-Aggregated Predictive Modeling of Microbiome Data <https://www.biorxiv.org/content/10.1101/2020.09.01.277632v1>`_.\n `on another dataset <https://royalsocietypublishing.org/doi/full/10.1098/rspb.2014.1988>`_\n"
      ]
    },
    {
      "cell_type": "code",
      "execution_count": null,
      "metadata": {
        "collapsed": false
      },
      "outputs": [],
      "source": [
        "from classo import classo_problem\nimport numpy as np\nfrom copy import deepcopy as dc\nimport scipy.io as sio"
      ]
    },
    {
      "cell_type": "markdown",
      "metadata": {},
      "source": [
        "## Load data\n\n"
      ]
    },
    {
      "cell_type": "code",
      "execution_count": null,
      "metadata": {
        "collapsed": false
      },
      "outputs": [],
      "source": [
        "pH = sio.loadmat(\"pH_data/pHData.mat\")\ntax = sio.loadmat(\"pH_data/taxTablepHData.mat\")[\"None\"][0]\n\nX, Y_uncent = pH[\"X\"], pH[\"Y\"].T[0]\ny = Y_uncent - np.mean(Y_uncent)  # Center Y\nprint(X.shape)"
      ]
    },
    {
      "cell_type": "markdown",
      "metadata": {},
      "source": [
        "## Set up c-lassso problem\n\n"
      ]
    },
    {
      "cell_type": "code",
      "execution_count": null,
      "metadata": {
        "collapsed": false
      },
      "outputs": [],
      "source": [
        "problem = classo_problem(X, y) \n\nproblem.model_selection.StabSelparameters.method      = 'lam'\nproblem.model_selection.PATH = True\nproblem.model_selection.LAMfixed = True\nproblem.model_selection.PATHparameters.n_active = X.shape[1] + 1"
      ]
    },
    {
      "cell_type": "markdown",
      "metadata": {},
      "source": [
        "## Solve for R1\n\n"
      ]
    },
    {
      "cell_type": "code",
      "execution_count": null,
      "metadata": {
        "collapsed": false
      },
      "outputs": [],
      "source": [
        "problem.formulation.concomitant = False\nproblem.solve()\nprint(problem, problem.solution)"
      ]
    },
    {
      "cell_type": "markdown",
      "metadata": {},
      "source": [
        "## Solve for R2\n\n"
      ]
    },
    {
      "cell_type": "code",
      "execution_count": null,
      "metadata": {
        "collapsed": false
      },
      "outputs": [],
      "source": [
        "problem.formulation.huber = True\nproblem.solve()\nprint(problem, problem.solution)"
      ]
    },
    {
      "cell_type": "markdown",
      "metadata": {},
      "source": [
        "## Solve for R3\n\n"
      ]
    },
    {
      "cell_type": "code",
      "execution_count": null,
      "metadata": {
        "collapsed": false
      },
      "outputs": [],
      "source": [
        "problem.formulation.concomitant = True\nproblem.formulation.huber = False\nproblem.solve()\nprint(problem, problem.solution)"
      ]
    },
    {
      "cell_type": "markdown",
      "metadata": {},
      "source": [
        "## Solve for R4\nRemark : we reset the numerical method here, \nbecause it has been automatically set to '\u00a8Path-Alg'\nfor previous computations, but for R4, \"DR\" is much better\nas explained in the documentation, R4 \"Path-Alg\" is a method for fixed lambda\nbut is (paradoxically) bad to compute the lambda-path \nbecause of the absence of possible warm-start in this method\n\n"
      ]
    },
    {
      "cell_type": "code",
      "execution_count": null,
      "metadata": {
        "collapsed": false
      },
      "outputs": [],
      "source": [
        "problem.model_selection.PATHparameters.numerical_method = \"DR\"\nproblem.formulation.huber = True\nproblem.solve()\nprint(problem, problem.solution)"
      ]
    }
  ],
  "metadata": {
    "kernelspec": {
      "display_name": "Python 3",
      "language": "python",
      "name": "python3"
    },
    "language_info": {
      "codemirror_mode": {
        "name": "ipython",
        "version": 3
      },
      "file_extension": ".py",
      "mimetype": "text/x-python",
      "name": "python",
      "nbconvert_exporter": "python",
      "pygments_lexer": "ipython3",
      "version": "3.9.0"
    }
  },
  "nbformat": 4,
  "nbformat_minor": 0
}